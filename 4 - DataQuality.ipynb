{
 "cells": [
  {
   "cell_type": "markdown",
   "metadata": {},
   "source": [
    "### Validações de Qualidade"
   ]
  },
  {
   "cell_type": "markdown",
   "metadata": {},
   "source": [
    "1. Verificamos se há registros com valores nulos ou em branco em campos que são obrigatórios"
   ]
  },
  {
   "cell_type": "code",
   "execution_count": null,
   "metadata": {
    "vscode": {
     "languageId": "sql"
    }
   },
   "outputs": [],
   "source": [
    "SELECT *\n",
    "FROM Fact_Show\n",
    "WHERE show_id IS NULL OR\n",
    "      date_id IS NULL OR\n",
    "      country_id IS NULL OR\n",
    "      genre_id IS NULL OR\n",
    "      title IS NULL OR title = '' OR\n",
    "      type IS NULL OR type = '';"
   ]
  },
  {
   "cell_type": "markdown",
   "metadata": {},
   "source": [
    "2. Validamos a presença de Dados Inválidos / Estranhos:"
   ]
  },
  {
   "cell_type": "code",
   "execution_count": null,
   "metadata": {
    "vscode": {
     "languageId": "sql"
    }
   },
   "outputs": [],
   "source": [
    "-- Verificando se há gêneros inválidos na tabela Cast_Gender\n",
    "SELECT show_id, \n",
    "       member_name, \n",
    "       gender\n",
    "FROM Cast_Gender\n",
    "WHERE gender NOT IN ('male', 'female', 'UNKNOWN');"
   ]
  },
  {
   "cell_type": "code",
   "execution_count": null,
   "metadata": {
    "vscode": {
     "languageId": "sql"
    }
   },
   "outputs": [],
   "source": [
    "-- Verificando se há registros duplicados na tabela Cast_Gender\n",
    "SELECT show_id, \n",
    "       member_name, \n",
    "       COUNT(*) AS duplicate_count\n",
    "FROM Cast_Gender\n",
    "GROUP BY show_id, member_name\n",
    "HAVING COUNT(*) > 1;"
   ]
  },
  {
   "cell_type": "code",
   "execution_count": null,
   "metadata": {
    "vscode": {
     "languageId": "sql"
    }
   },
   "outputs": [],
   "source": [
    "-- Verificando se há registros duplicados na tabela fato\n",
    "SELECT show_id, COUNT(*)\n",
    "FROM Fact_Show\n",
    "GROUP BY show_id\n",
    "HAVING COUNT(*) > 1;"
   ]
  },
  {
   "cell_type": "code",
   "execution_count": null,
   "metadata": {
    "vscode": {
     "languageId": "sql"
    }
   },
   "outputs": [],
   "source": [
    "-- Verificando se há registros na tabela de fato que não têm correspondência nas tabelas de dimensão\n",
    "SELECT fs.show_id, \n",
    "       fs.date_id, \n",
    "       fs.country_id, \n",
    "       fs.genre_id\n",
    "FROM Fact_Show fs\n",
    "\n",
    "LEFT JOIN Dim_Date dd ON fs.date_id = dd.date_id\n",
    "LEFT JOIN Dim_Country dc ON fs.country_id = dc.country_id\n",
    "LEFT JOIN Dim_Genre dg ON fs.genre_id = dg.genre_id\n",
    "LEFT JOIN Cast_Gender cg ON cg.show_id = fs.show_id\n",
    "\n",
    "WHERE dd.date_id IS NULL OR dc.country_id IS NULL OR dg.genre_id IS NULL OR cg.show_id IS NULL;"
   ]
  },
  {
   "cell_type": "code",
   "execution_count": null,
   "metadata": {
    "vscode": {
     "languageId": "sql"
    }
   },
   "outputs": [],
   "source": [
    "-- Verificando se há datas inválidas ou mal formatadas\n",
    "SELECT *\n",
    "FROM Fact_Show\n",
    "WHERE NOT date_value ~ '^\\d{4}-\\d{2}-\\d{2}$';"
   ]
  }
 ],
 "metadata": {
  "language_info": {
   "name": "python"
  },
  "orig_nbformat": 4
 },
 "nbformat": 4,
 "nbformat_minor": 2
}
