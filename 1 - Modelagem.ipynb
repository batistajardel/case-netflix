{
 "cells": [
  {
   "cell_type": "markdown",
   "metadata": {},
   "source": [
    "### Passo 1\n",
    "\n",
    "Crie um banco de dados para armazenar os dados usando um design de modelagem dimensional. (MSSQL / MySQL / Postgres)"
   ]
  },
  {
   "cell_type": "markdown",
   "metadata": {},
   "source": [
    "Utilizaremos o nosso banco de dados PostgreSQL. A seguir foi feita a modelagem Star Schema da nossa solução utilizando tabelas fato e dimensão."
   ]
  },
  {
   "cell_type": "markdown",
   "metadata": {},
   "source": [
    "1. Tabela de Dimensão Dim_Date - Para Datas:"
   ]
  },
  {
   "cell_type": "code",
   "execution_count": null,
   "metadata": {
    "vscode": {
     "languageId": "sql"
    }
   },
   "outputs": [],
   "source": [
    "CREATE TABLE Dim_Date (\n",
    "    date_id SERIAL PRIMARY KEY,\n",
    "    date_value DATE NOT NULL\n",
    ");"
   ]
  },
  {
   "cell_type": "markdown",
   "metadata": {},
   "source": [
    "2. Tabela de Dimensão Dim_Country - Para Países:"
   ]
  },
  {
   "cell_type": "code",
   "execution_count": null,
   "metadata": {
    "vscode": {
     "languageId": "sql"
    }
   },
   "outputs": [],
   "source": [
    "CREATE TABLE Dim_Country (\n",
    "    country_id SERIAL PRIMARY KEY,\n",
    "    country_name VARCHAR(100) NOT NULL\n",
    ");"
   ]
  },
  {
   "cell_type": "markdown",
   "metadata": {},
   "source": [
    "3. Tabela de Dimensão Dim_Genre - Para Gêneros:"
   ]
  },
  {
   "cell_type": "code",
   "execution_count": null,
   "metadata": {
    "vscode": {
     "languageId": "sql"
    }
   },
   "outputs": [],
   "source": [
    "CREATE TABLE Dim_Genre (\n",
    "    genre_id SERIAL PRIMARY KEY,\n",
    "    genre_name VARCHAR(100) NOT NULL\n",
    ");"
   ]
  },
  {
   "cell_type": "markdown",
   "metadata": {},
   "source": [
    "4. Tabela de Fatos Fact_Show:"
   ]
  },
  {
   "cell_type": "code",
   "execution_count": null,
   "metadata": {
    "vscode": {
     "languageId": "sql"
    }
   },
   "outputs": [],
   "source": [
    "CREATE TABLE Fact_Show (\n",
    "    fact_id SERIAL PRIMARY KEY,\n",
    "    show_id VARCHAR(50) NOT NULL,\n",
    "    date_id INT REFERENCES Dim_Date(date_id),\n",
    "    country_id INT REFERENCES Dim_Country(country_id),\n",
    "    genre_id INT REFERENCES Dim_Genre(genre_id),\n",
    "    type VARCHAR(10),\n",
    "    title VARCHAR(255),\n",
    "    director VARCHAR(100),\n",
    "    cast VARCHAR(255),\n",
    "    release_year INT,\n",
    "    rating VARCHAR(10),\n",
    "    duration VARCHAR(50),\n",
    "    description TEXT\n",
    ");"
   ]
  }
 ],
 "metadata": {
  "language_info": {
   "name": "python"
  },
  "orig_nbformat": 4
 },
 "nbformat": 4,
 "nbformat_minor": 2
}
