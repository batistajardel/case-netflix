{
 "cells": [
  {
   "cell_type": "markdown",
   "metadata": {},
   "source": [
    "### Data Analysis"
   ]
  },
  {
   "cell_type": "markdown",
   "metadata": {},
   "source": [
    "1. Nome mais comum entre atores e atrizes:"
   ]
  },
  {
   "cell_type": "code",
   "execution_count": null,
   "metadata": {
    "vscode": {
     "languageId": "sql"
    }
   },
   "outputs": [],
   "source": [
    "SELECT member_name, \n",
    "       COUNT(*) AS total_count\n",
    "FROM Cast_Gender\n",
    "\n",
    "WHERE gender IN ('male', 'female')\n",
    "GROUP BY member_name\n",
    "ORDER BY total_count DESC\n",
    "LIMIT 1;"
   ]
  },
  {
   "cell_type": "markdown",
   "metadata": {},
   "source": [
    "2. Filme com o maior intervalo de tempo desde o lançamento até aparecer na Netflix"
   ]
  },
  {
   "cell_type": "code",
   "execution_count": null,
   "metadata": {
    "vscode": {
     "languageId": "sql"
    }
   },
   "outputs": [],
   "source": [
    "SELECT title, \n",
    "       release_year, \n",
    "       date_value AS data_entrada,\n",
    "       EXTRACT(YEAR FROM age(date_value, release_year || '-01-01')) AS intervalo_tempo\n",
    "FROM Fact_Show\n",
    "\n",
    "JOIN Dim_Date \n",
    "    ON Fact_Show.date_id = Dim_Date.date_id\n",
    "\n",
    "ORDER BY intervalo_tempo DESC\n",
    "LIMIT 1;"
   ]
  },
  {
   "cell_type": "markdown",
   "metadata": {},
   "source": [
    "3. Mês do ano que teve mais novos lançamentos historicamente"
   ]
  },
  {
   "cell_type": "code",
   "execution_count": null,
   "metadata": {
    "vscode": {
     "languageId": "sql"
    }
   },
   "outputs": [],
   "source": [
    "SELECT EXTRACT(MONTH FROM date_value) AS mes,\n",
    "       COUNT(*) AS total_lancamentos\n",
    "FROM Fact_Show\n",
    "\n",
    "JOIN Dim_Date \n",
    "ON Fact_Show.date_id = Dim_Date.date_id\n",
    "\n",
    "GROUP BY mes\n",
    "ORDER BY total_lancamentos DESC\n",
    "LIMIT 1;"
   ]
  },
  {
   "cell_type": "markdown",
   "metadata": {},
   "source": [
    "4. Ano com o maior aumento ano sobre ano (em termos percentuais) para programas de TV:"
   ]
  },
  {
   "cell_type": "code",
   "execution_count": null,
   "metadata": {
    "vscode": {
     "languageId": "sql"
    }
   },
   "outputs": [],
   "source": [
    "WITH tv_counts AS (\n",
    "    SELECT release_year,\n",
    "           COUNT(*) AS tv_count\n",
    "    FROM Fact_Show\n",
    "    WHERE type = 'TV Show'\n",
    "    GROUP BY release_year\n",
    ")\n",
    "\n",
    "SELECT current_year.release_year as ano_lancamento, \n",
    "       (current_year.tv_count - previous_year.tv_count) AS aumento,\n",
    "       ((current_year.tv_count - previous_year.tv_count) / previous_year.tv_count) * 100 AS aumento_percentual\n",
    "FROM tv_counts current_year\n",
    "\n",
    "JOIN tv_counts previous_year \n",
    "ON current_year.release_year = previous_year.release_year + 1\n",
    "\n",
    "ORDER BY aumento_percentual DESC\n",
    "LIMIT 1;"
   ]
  },
  {
   "cell_type": "markdown",
   "metadata": {},
   "source": [
    "5. Lista de atrizes que apareceram em um filme com Woody Harrelson mais de uma vez."
   ]
  },
  {
   "cell_type": "code",
   "execution_count": null,
   "metadata": {
    "vscode": {
     "languageId": "sql"
    }
   },
   "outputs": [],
   "source": [
    "SELECT DISTINCT cg1.member_name\n",
    "FROM Cast_Gender cg1\n",
    "\n",
    "JOIN Cast_Gender cg2 \n",
    "    ON cg1.show_id = cg2.show_id\n",
    "\n",
    "WHERE cg1.member_name ILIKE '%Woody Harrelson%' \n",
    "    AND cg2.gender = 'female'\n",
    "    \n",
    "GROUP BY cg1.member_name\n",
    "HAVING COUNT(DISTINCT cg2.member_name) > 1;"
   ]
  }
 ],
 "metadata": {
  "language_info": {
   "name": "python"
  },
  "orig_nbformat": 4
 },
 "nbformat": 4,
 "nbformat_minor": 2
}
